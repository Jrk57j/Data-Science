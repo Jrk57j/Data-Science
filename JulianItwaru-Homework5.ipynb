{
 "cells": [
  {
   "cell_type": "code",
   "execution_count": 2,
   "metadata": {},
   "outputs": [],
   "source": [
    "import matplotlib.pyplot as plt\n",
    "import pandas as pd\n",
    "import numpy as np\n",
    "import scipy as sp\n",
    "import xlrd\n",
    "from scipy.stats import norm\n",
    "from scipy.stats import binom\n",
    "from scipy.stats import poisson\n",
    "import math\n",
    "%matplotlib inline\n",
    "\n",
    "plt.rc('figure', figsize=(10,6))\n",
    "def plotDist(x,func,title,l,xlabel,ylabel):\n",
    "    #plotfuncforelementsofx\n",
    "    plt.plot(x,func,'b--',lw=2,alpha=0.6,label=l)\n",
    "    xl=plt.gca().get_xlim()\n",
    "    #linesonY−axis\n",
    "    plt.hlines(0,xl[0],xl[1],linestyles='--',colors='#999999')\n",
    "    plt.gca().set_xlim(xl)\n",
    "    plt.legend(loc='best',frameon=False)\n",
    "    plt.xlabel(xlabel)\n",
    "    plt.ylabel(ylabel)\n",
    "    plt.title(title)\n",
    "    \n",
    "def plotHistDist(func,x,r,title,l,xlabel,ylabel):\n",
    "    plt.hist(r,normed=True,histtype='stepfilled',alpha=0.2)\n",
    "    plotDist(x,func,title,l,xlabel,ylabel)\n"
   ]
  },
  {
   "cell_type": "markdown",
   "metadata": {},
   "source": [
    "(a) Load the data in a DataFrame and perform any pre-processing as necessary."
   ]
  },
  {
   "cell_type": "code",
   "execution_count": 3,
   "metadata": {},
   "outputs": [
    {
     "data": {
      "text/html": [
       "<div>\n",
       "<style scoped>\n",
       "    .dataframe tbody tr th:only-of-type {\n",
       "        vertical-align: middle;\n",
       "    }\n",
       "\n",
       "    .dataframe tbody tr th {\n",
       "        vertical-align: top;\n",
       "    }\n",
       "\n",
       "    .dataframe thead th {\n",
       "        text-align: right;\n",
       "    }\n",
       "</style>\n",
       "<table border=\"1\" class=\"dataframe\">\n",
       "  <thead>\n",
       "    <tr style=\"text-align: right;\">\n",
       "      <th></th>\n",
       "      <th>MAKE</th>\n",
       "      <th>WEIGHT</th>\n",
       "      <th>DRIVHEAD</th>\n",
       "      <th>PASSHEAD</th>\n",
       "    </tr>\n",
       "  </thead>\n",
       "  <tbody>\n",
       "    <tr>\n",
       "      <th>0</th>\n",
       "      <td>Geo</td>\n",
       "      <td>1986</td>\n",
       "      <td>467</td>\n",
       "      <td>186</td>\n",
       "    </tr>\n",
       "    <tr>\n",
       "      <th>1</th>\n",
       "      <td>Ford</td>\n",
       "      <td>2086</td>\n",
       "      <td>487</td>\n",
       "      <td>720</td>\n",
       "    </tr>\n",
       "    <tr>\n",
       "      <th>2</th>\n",
       "      <td>Honda</td>\n",
       "      <td>2313</td>\n",
       "      <td>375</td>\n",
       "      <td>531</td>\n",
       "    </tr>\n",
       "    <tr>\n",
       "      <th>3</th>\n",
       "      <td>Honda</td>\n",
       "      <td>2337</td>\n",
       "      <td>480</td>\n",
       "      <td>329</td>\n",
       "    </tr>\n",
       "    <tr>\n",
       "      <th>4</th>\n",
       "      <td>Mazda</td>\n",
       "      <td>2312</td>\n",
       "      <td>710</td>\n",
       "      <td>672</td>\n",
       "    </tr>\n",
       "    <tr>\n",
       "      <th>5</th>\n",
       "      <td>Nissan</td>\n",
       "      <td>2454</td>\n",
       "      <td>583</td>\n",
       "      <td>599</td>\n",
       "    </tr>\n",
       "    <tr>\n",
       "      <th>6</th>\n",
       "      <td>Toyota</td>\n",
       "      <td>2474</td>\n",
       "      <td>632</td>\n",
       "      <td>655</td>\n",
       "    </tr>\n",
       "    <tr>\n",
       "      <th>7</th>\n",
       "      <td>Toyota</td>\n",
       "      <td>2176</td>\n",
       "      <td>907</td>\n",
       "      <td>561</td>\n",
       "    </tr>\n",
       "    <tr>\n",
       "      <th>8</th>\n",
       "      <td>Buick</td>\n",
       "      <td>2935</td>\n",
       "      <td>626</td>\n",
       "      <td>372</td>\n",
       "    </tr>\n",
       "    <tr>\n",
       "      <th>9</th>\n",
       "      <td>Chrysler</td>\n",
       "      <td>2952</td>\n",
       "      <td>408</td>\n",
       "      <td>277</td>\n",
       "    </tr>\n",
       "  </tbody>\n",
       "</table>\n",
       "</div>"
      ],
      "text/plain": [
       "       MAKE  WEIGHT  DRIVHEAD  PASSHEAD\n",
       "0       Geo    1986       467       186\n",
       "1      Ford    2086       487       720\n",
       "2     Honda    2313       375       531\n",
       "3     Honda    2337       480       329\n",
       "4     Mazda    2312       710       672\n",
       "5    Nissan    2454       583       599\n",
       "6    Toyota    2474       632       655\n",
       "7    Toyota    2176       907       561\n",
       "8     Buick    2935       626       372\n",
       "9  Chrysler    2952       408       277"
      ]
     },
     "execution_count": 3,
     "metadata": {},
     "output_type": "execute_result"
    }
   ],
   "source": [
    "crash = pd.read_excel('CRASH.XLS')\n",
    "crash = crash[['MAKE', 'WEIGHT', 'DRIVHEAD','PASSHEAD']]\n",
    "crash.head(10)"
   ]
  },
  {
   "cell_type": "markdown",
   "metadata": {},
   "source": [
    "(b) Assume that the data population has a normal distribution, where the mean and standard\n",
    "deviation are the same as the mean and standard deviation of the data in the column.\n",
    "Using plotHistDist function to plot both the histogram of the column and a normal\n",
    "distribution with the same mean and standard deviation in the same figure, and verify\n",
    "that the data is approximately normally distributed."
   ]
  },
  {
   "cell_type": "code",
   "execution_count": 4,
   "metadata": {},
   "outputs": [
    {
     "name": "stderr",
     "output_type": "stream",
     "text": [
      "/home/julian/.local/lib/python3.6/site-packages/matplotlib/axes/_axes.py:6510: MatplotlibDeprecationWarning: \n",
      "The 'normed' kwarg was deprecated in Matplotlib 2.1 and will be removed in 3.1. Use 'density' instead.\n",
      "  alternative=\"'density'\", removal=\"3.1\")\n"
     ]
    },
    {
     "data": {
      "image/png": "[encoded data removed]",
      "text/plain": [
       "<Figure size 432x288 with 1 Axes>"
      ]
     },
     "metadata": {
      "needs_background": "light"
     },
     "output_type": "display_data"
    }
   ],
   "source": [
    "mu = crash['DRIVHEAD'].mean()\n",
    "sigma = crash['DRIVHEAD'].std()\n",
    "x = list(sorted(crash['DRIVHEAD']))\n",
    "randvar = norm(mu, sigma)\n",
    "r = norm.rvs(loc=mu, scale=sigma, size=1000)\n",
    "plotHistDist(randvar.pdf(x),x,r,'Head Movement Standard Deviation',\"l is here\",\"Count\",\"Deviation\")\n"
   ]
  },
  {
   "cell_type": "markdown",
   "metadata": {},
   "source": [
    "    (c) A crash-tested car is selected at random and the head injury rating is observed.\n",
    "    i. Find the probability that the rating is between 500 and 700.\n",
    "    ii. Find the probability that the rating is between 400 and 500.\n",
    "    iii. Find the probability that the rating is less than 850.\n",
    "    iv. Find the probability that the rating is greater than 1000.\n",
    "    v. What rating will be exceeded by only 10% of tested cars?"
   ]
  },
  {
   "cell_type": "code",
   "execution_count": 5,
   "metadata": {},
   "outputs": [
    {
     "name": "stdout",
     "output_type": "stream",
     "text": [
      "Probability that the rating is between 500 and 700 is 0.410\n",
      "Probability that the rating is between 500 and 400 is 0.152\n",
      "Probability that the rating is less than 850 is 0.908\n",
      "Probability that the rating is greater than 1000 is 0.016\n",
      "10% of the cars that exceed the rating is 366.195336\n"
     ]
    }
   ],
   "source": [
    "cum_dist_500 = (randvar.cdf(700) - randvar.cdf(500))\n",
    "cum_dist_400 = (randvar.cdf(500) - randvar.cdf(400))\n",
    "cum_dist_850 = (randvar.cdf(850))\n",
    "cum_dist_1000 = (1-randvar.cdf(1000))\n",
    "print(\"Probability that the rating is between {} and {} is {:.3f}\".format(500, 700, cum_dist_500))\n",
    "print(\"Probability that the rating is between {} and {} is {:.3f}\".format(500, 400, cum_dist_400))\n",
    "print(\"Probability that the rating is less than {} is {:.3f}\".format(850, cum_dist_850))\n",
    "print(\"Probability that the rating is greater than {} is {:.3f}\".format(1000, cum_dist_1000))\n",
    "print(\"{}% of the cars that exceed the rating is {:3f}\".format(10, randvar.ppf(0.1)))"
   ]
  },
  {
   "cell_type": "markdown",
   "metadata": {},
   "source": [
    "[12] A department has 26 faculty members. For i = 0, 1, 2, 3, find pi\n",
    "the probability that i of\n",
    "them were born on the Christmas Day. Assume that the birth rates are constant throughout\n",
    "the year and that each year has 365 days. Write Python code to find piassuming\n",
    "(a) A binomial distribution.\n",
    "(b) A Poisson distribution (which approximates the binomial distribution)"
   ]
  },
  {
   "cell_type": "code",
   "execution_count": 37,
   "metadata": {},
   "outputs": [
    {
     "data": {
      "text/plain": [
       "array([-1., nan])"
      ]
     },
     "execution_count": 37,
     "metadata": {},
     "output_type": "execute_result"
    }
   ],
   "source": [
    "n = 26\n",
    "p = 1/365\n",
    "x = np.arange(0, 27)\n",
    "randvar = binom(n,p)\n",
    "l = \"n = {}, p = {}\".format(n,p)\n",
    "#plotDist(x, randvar.pmf(x), 'binominal birthday', l, \"x\",\"y\")\n",
    "rv = binom(100, 20)\n",
    "rv.ppf(np.arange(0,2))"
   ]
  },
  {
   "cell_type": "code",
   "execution_count": 38,
   "metadata": {},
   "outputs": [
    {
     "data": {
      "image/png": "[encoded data removed]",
      "text/plain": [
       "<Figure size 432x288 with 1 Axes>"
      ]
     },
     "metadata": {
      "needs_background": "light"
     },
     "output_type": "display_data"
    }
   ],
   "source": [
    "mu = n*p\n",
    "randvar = poisson(mu)\n",
    "plotDist(x, randvar.pmf(x), 'Number of birthday', l, \"x\",\"y\")"
   ]
  },
  {
   "cell_type": "code",
   "execution_count": null,
   "metadata": {},
   "outputs": [],
   "source": []
  }
 ],
 "metadata": {
  "kernelspec": {
   "display_name": "Python 3",
   "language": "python",
   "name": "python3"
  },
  "language_info": {
   "codemirror_mode": {
    "name": "ipython",
    "version": 3
   },
   "file_extension": ".py",
   "mimetype": "text/x-python",
   "name": "python",
   "nbconvert_exporter": "python",
   "pygments_lexer": "ipython3",
   "version": "3.6.7"
  }
 },
 "nbformat": 4,
 "nbformat_minor": 2
}
