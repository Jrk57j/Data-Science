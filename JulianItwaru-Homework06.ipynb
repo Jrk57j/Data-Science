{
 "cells": [
  {
   "cell_type": "code",
   "execution_count": 8,
   "metadata": {},
   "outputs": [],
   "source": [
    "import pandas as pd\n",
    "import math\n",
    "from scipy import stats"
   ]
  },
  {
   "cell_type": "markdown",
   "metadata": {},
   "source": [
    "] In a small town, crimes occur at a Poisson rate of k per month. Write python code to\n",
    "find the probability of having exactly m month (not necessarily consecutive) with no crimes\n",
    "during the next year, and print a table"
   ]
  },
  {
   "cell_type": "code",
   "execution_count": 28,
   "metadata": {},
   "outputs": [
    {
     "data": {
      "text/html": [
       "<div>\n",
       "<style scoped>\n",
       "    .dataframe tbody tr th:only-of-type {\n",
       "        vertical-align: middle;\n",
       "    }\n",
       "\n",
       "    .dataframe tbody tr th {\n",
       "        vertical-align: top;\n",
       "    }\n",
       "\n",
       "    .dataframe thead th {\n",
       "        text-align: right;\n",
       "    }\n",
       "</style>\n",
       "<table border=\"1\" class=\"dataframe\">\n",
       "  <thead>\n",
       "    <tr style=\"text-align: right;\">\n",
       "      <th></th>\n",
       "      <th>m = 2</th>\n",
       "      <th>m = 3</th>\n",
       "      <th>m = 4</th>\n",
       "      <th>m = 5</th>\n",
       "    </tr>\n",
       "    <tr>\n",
       "      <th>k</th>\n",
       "      <th></th>\n",
       "      <th></th>\n",
       "      <th></th>\n",
       "      <th></th>\n",
       "    </tr>\n",
       "  </thead>\n",
       "  <tbody>\n",
       "    <tr>\n",
       "      <th>5</th>\n",
       "      <td>0.002801</td>\n",
       "      <td>6.332571e-05</td>\n",
       "      <td>9.665544e-07</td>\n",
       "      <td>1.049083e-08</td>\n",
       "    </tr>\n",
       "    <tr>\n",
       "      <th>6</th>\n",
       "      <td>0.000396</td>\n",
       "      <td>3.276585e-06</td>\n",
       "      <td>1.831955e-08</td>\n",
       "      <td>7.283595e-11</td>\n",
       "    </tr>\n",
       "    <tr>\n",
       "      <th>7</th>\n",
       "      <td>0.000054</td>\n",
       "      <td>1.654523e-07</td>\n",
       "      <td>3.397739e-10</td>\n",
       "      <td>4.961864e-13</td>\n",
       "    </tr>\n",
       "    <tr>\n",
       "      <th>8</th>\n",
       "      <td>0.000007</td>\n",
       "      <td>8.280255e-09</td>\n",
       "      <td>6.251958e-12</td>\n",
       "      <td>3.356803e-15</td>\n",
       "    </tr>\n",
       "  </tbody>\n",
       "</table>\n",
       "</div>"
      ],
      "text/plain": [
       "      m = 2         m = 3         m = 4         m = 5\n",
       "k                                                    \n",
       "5  0.002801  6.332571e-05  9.665544e-07  1.049083e-08\n",
       "6  0.000396  3.276585e-06  1.831955e-08  7.283595e-11\n",
       "7  0.000054  1.654523e-07  3.397739e-10  4.961864e-13\n",
       "8  0.000007  8.280255e-09  6.251958e-12  3.356803e-15"
      ]
     },
     "execution_count": 28,
     "metadata": {},
     "output_type": "execute_result"
    }
   ],
   "source": [
    "months = [2,3,4,5]\n",
    "k = [5,6,7,8]\n",
    "d = dict()\n",
    "for m in months: # using a dict to create the dataframe, since dataframes are just a collection of series which are dicts. \n",
    "    ps = list()#fill the dict with this list. \n",
    "    for i in k:\n",
    "        rv = stats.poisson(i)\n",
    "        p = rv.pmf(0) # probability of no crimes in any month\n",
    "        binom = stats.binom(12, p) # binomial distribution of no crimes/crimes per month\n",
    "        ps.append(binom.pmf(m)) # probability of m successes (months containing no crimes that year)\n",
    "    d['m = {}'.format(m)] = ps#dict key is going to be m, and the values will be generated from the list. \n",
    "df = pd.DataFrame(d, index=k)\n",
    "df.index.name = 'k'\n",
    "df"
   ]
  },
  {
   "cell_type": "markdown",
   "metadata": {},
   "source": [
    "The grade for an exam are normally distributed with mean µ and variance σ\n",
    "2\n",
    ". Assume\n",
    "the following grading scheme: A (≥ 90), B (80 - 90), C(70 - 80), D(60 - 70) and F (≤ 60).\n",
    "Write a python function students_in_grade that takes the µ, σ\n",
    "2\n",
    ", and the total number of\n",
    "student taking the exam, and print a statement predicating how many students are expected\n",
    "to get each grade. Apply this function to the following input settings."
   ]
  },
  {
   "cell_type": "code",
   "execution_count": 31,
   "metadata": {},
   "outputs": [
    {
     "name": "stdout",
     "output_type": "stream",
     "text": [
      "for mu = 80, o^2 = 64 and student count = 200\n",
      "num of A students: 20\n",
      "num of B students: 79\n",
      "num of C students: 79\n",
      "num of D students: 20\n",
      "num of F students: 2\n"
     ]
    }
   ],
   "source": [
    "def nrange(l, u, rv):\n",
    "    return rv.cdf(u)-rv.cdf(l)\n",
    "def grades(mu, o2, student_count):\n",
    "    o = math.sqrt(o2)\n",
    "    rv = stats.norm(mu, o)\n",
    "    for u, l, grade in ( (100,90,'A'), (90, 80, 'B'), (80, 70, 'C'), (70, 60,'D'), (60, 0, 'F')):\n",
    "        print('num of {} students: {}'.format(grade, math.ceil(student_count*nrange(l,u,rv))))\n",
    "print('for mu = 80, o^2 = 64 and student count = 200')\n",
    "grades(80, 64, 200)\n",
    "    "
   ]
  },
  {
   "cell_type": "code",
   "execution_count": 16,
   "metadata": {},
   "outputs": [
    {
     "name": "stdout",
     "output_type": "stream",
     "text": [
      "for mu = 70, o^2 = 56 and student count = 75\n",
      "num of A students: 1\n",
      "num of B students: 7\n",
      "num of C students: 31\n",
      "num of D students: 31\n",
      "num of F students: 7\n"
     ]
    }
   ],
   "source": [
    "print('for mu = 70, o^2 = 56 and student count = 75')\n",
    "grades(70, 56, 75)"
   ]
  },
  {
   "cell_type": "code",
   "execution_count": 17,
   "metadata": {},
   "outputs": [
    {
     "name": "stdout",
     "output_type": "stream",
     "text": [
      "for mu = 75, o^2 = 36 and student count = 50\n",
      "num of A students: 2\n",
      "num of B students: 12\n",
      "num of C students: 25\n",
      "num of D students: 12\n",
      "num of F students: 2\n"
     ]
    }
   ],
   "source": [
    "print('for mu = 75, o^2 = 36 and student count = 50')\n",
    "grades(75, 56, 50)"
   ]
  }
 ],
 "metadata": {
  "kernelspec": {
   "display_name": "Python 3",
   "language": "python",
   "name": "python3"
  },
  "language_info": {
   "codemirror_mode": {
    "name": "ipython",
    "version": 3
   },
   "file_extension": ".py",
   "mimetype": "text/x-python",
   "name": "python",
   "nbconvert_exporter": "python",
   "pygments_lexer": "ipython3",
   "version": "3.6.7"
  }
 },
 "nbformat": 4,
 "nbformat_minor": 2
}
