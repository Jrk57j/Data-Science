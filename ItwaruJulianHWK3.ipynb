{
 "cells": [
  {
   "cell_type": "code",
   "execution_count": 3,
   "metadata": {},
   "outputs": [],
   "source": [
    "import numpy as np"
   ]
  },
  {
   "cell_type": "markdown",
   "metadata": {},
   "source": [
    "[20] Here’s a couple of exercises for you to practice your NumPy and Python skills. First,\n",
    "make the following two arrays:\n",
    "\n",
    "happy = np . a r r a y ( [ [ 1 , 1 , 1 , 2 ] , [ 2 , 2 , 2 , 3 ] , [ 3 , 3 , 3 , 4 ] , [ 4 , 4 , 4 , 5 ] )\n",
    "\n",
    "sad = np . a r r a y ( [ [ 1 , 3 ] , [ 2 , 4 ] , [ 5 , 7 ] , [ 6 , 8 ] , [ 9 9 , 1 0 0 ] )\n",
    "\n",
    "(a) Use slice notation to print the 2nd column from the 1st row in happy.\n",
    "\n",
    "(b) Can you add happy and sad together? Why or why not?\n",
    "\n",
    "(c) Add 5 to each element in sad.\n",
    "\n",
    "(d) Subtract 1 from the last element in the last row of happy.\n",
    "\n",
    "(e) Make a new array using slice notation that looks like happy but does not include the\n",
    "first column and the last row."
   ]
  },
  {
   "cell_type": "code",
   "execution_count": 8,
   "metadata": {},
   "outputs": [
    {
     "name": "stdout",
     "output_type": "stream",
     "text": [
      "[[1 1 1 2]\n",
      " [2 6 2 3]\n",
      " [3 3 3 4]\n",
      " [4 6 4 5]]\n",
      "[1 6 3 6]\n",
      "\n",
      "\n",
      "[[  6   8]\n",
      " [  7   9]\n",
      " [ 10  12]\n",
      " [ 11  13]\n",
      " [104 105]]\n",
      "4\n",
      "\n",
      "\n",
      "[[1 1 2]\n",
      " [6 2 3]\n",
      " [3 3 3]]\n"
     ]
    }
   ],
   "source": [
    "happy = np.array([ [1,1,1,2],[2,6,2,3],[3,3,3,4],[4,6,4,5]] )\n",
    "#changed values to make sure i was getting the second col and row. \n",
    "\n",
    "sad = np.array([ [1,3],[2,4],[5,7],[6,8],[99,100]] )\n",
    "\n",
    "print(happy)\n",
    "poop = happy[:,1]\n",
    "print(poop)\n",
    "\"\"\"\n",
    "Can you add happy and sad together? Why or why not?\n",
    "No you cannot add the two together since they are not the same size matrix\n",
    "\"\"\"\n",
    "\n",
    "five_add = np.add(5, sad)\n",
    "print(\"\\n\")\n",
    "print(five_add)\n",
    "sub1 = np.add(-1,happy[-1,-1])\n",
    "print(sub1)\n",
    "print(\"\\n\")\n",
    "confused = np.array([ [1,1,2],[6,2,3],[3,3,3] ])\n",
    "print(confused)"
   ]
  },
  {
   "cell_type": "code",
   "execution_count": 18,
   "metadata": {},
   "outputs": [
    {
     "data": {
      "text/plain": [
       "array([[9, 0, 0],\n",
       "       [0, 5, 6]])"
      ]
     },
     "execution_count": 18,
     "metadata": {},
     "output_type": "execute_result"
    }
   ],
   "source": [
    "def checkaverage(arr):\n",
    "      return np.where(arr >= np.average(arr), arr, 0)\n",
    "checkaverage(np.array([ [9,2,3],[4,5,6] ]))"
   ]
  },
  {
   "cell_type": "code",
   "execution_count": null,
   "metadata": {},
   "outputs": [],
   "source": []
  }
 ],
 "metadata": {
  "kernelspec": {
   "display_name": "Python 3",
   "language": "python",
   "name": "python3"
  },
  "language_info": {
   "codemirror_mode": {
    "name": "ipython",
    "version": 3
   },
   "file_extension": ".py",
   "mimetype": "text/x-python",
   "name": "python",
   "nbconvert_exporter": "python",
   "pygments_lexer": "ipython3",
   "version": "3.6.7"
  }
 },
 "nbformat": 4,
 "nbformat_minor": 2
}
