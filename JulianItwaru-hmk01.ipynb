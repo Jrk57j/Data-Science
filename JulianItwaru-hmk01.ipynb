{
 "cells": [
  {
   "cell_type": "markdown",
   "metadata": {},
   "source": [
    "A side note about the 4th questions. I wrote it in the notebook for testing, and then put the script outside of it. "
   ]
  },
  {
   "cell_type": "markdown",
   "metadata": {},
   "source": [
    "1. [10] Cumulative sum of a list [a, b, c, ...] is defined as [a, a+b, a+b+c, ...]. Write a function\n",
    "cumulative_sum to compute cumulative sum of a list. Does your implementation work for a\n",
    "list of strings?\n",
    "\n",
    "It doesn't create a sum, but it does concate the string. when you give it string rather than the ints. "
   ]
  },
  {
   "cell_type": "code",
   "execution_count": 6,
   "metadata": {},
   "outputs": [
    {
     "name": "stdout",
     "output_type": "stream",
     "text": [
      "original list [1, 2, 3, 4]\n",
      "cumulative_sum [1, 3, 6, 10]\n"
     ]
    }
   ],
   "source": [
    "#sample array\n",
    "alist = [1,2,3,4]\n",
    "#empty array for output\n",
    "cumulative_sum_list =[]\n",
    "#function that will create an array of sums from the given sample list.\n",
    "def cumulative_sum(list):\n",
    "    #place holder for number that will soon be changed after every iteration \n",
    "    number = 0\n",
    "    #for loop that goes through the list of elements using the class i\n",
    "    for i in list:\n",
    "        #assignment for the number to equal the i element\n",
    "        #also adds the previous number to the next number in line.\n",
    "        number += i\n",
    "        #appends the number to the cumlative_sum_list\n",
    "        cumulative_sum_list.append(number)\n",
    "        #returns a cumulative summed list\n",
    "    return cumulative_sum_list\n",
    "print(\"original list\", alist)\n",
    "print(\"cumulative_sum\", cumulative_sum(alist))"
   ]
  },
  {
   "cell_type": "markdown",
   "metadata": {},
   "source": [
    "2. [10] Write a function lensort to sort a list of strings based on length."
   ]
  },
  {
   "cell_type": "code",
   "execution_count": 7,
   "metadata": {},
   "outputs": [
    {
     "name": "stdout",
     "output_type": "stream",
     "text": [
      "['c', 'perl', 'java', 'ruby', 'python', 'haskell']\n"
     ]
    }
   ],
   "source": [
    "#sample data\n",
    "ll = ['python','perl','java','c','haskell','ruby']\n",
    "\"\"\"\n",
    "a function that will sort the list based off the\n",
    "size of the charaters in the list\n",
    "\"\"\"\n",
    "def lensort(list):\n",
    "    #olist is a new list with a bad name\n",
    "    olist = sorted(list, key = len)\n",
    "    #retuns the sorted list\n",
    "    return olist\n",
    "print(lensort(ll))"
   ]
  },
  {
   "cell_type": "markdown",
   "metadata": {},
   "source": [
    "3. [10] Write a function unique that takes a list of strings and an optional key function as\n",
    "arguments and use the return value of the key function to check for uniqueness."
   ]
  },
  {
   "cell_type": "code",
   "execution_count": 8,
   "metadata": {},
   "outputs": [
    {
     "name": "stdout",
     "output_type": "stream",
     "text": [
      "['python', 'java']\n"
     ]
    }
   ],
   "source": [
    "#sample data\n",
    "ul = [\"Python\",\"java\",\"Python\",\"Java\",\"PyThon\",\"JaVa\"]\n",
    "#empty list to be filled with lower case words only\n",
    "llwords = []\n",
    "#empty list to be filled with unique words only\n",
    "uwords = []\n",
    "#function with make all words lowercase and then \n",
    "#only keep the words that are unique and add it to \n",
    "#another list\n",
    "def unique(list): \n",
    "   #makes all the words lower case \n",
    "   llwords = [i.lower() for i in ul]\n",
    "   #for loop to go through the list of words that have been lowercased \n",
    "   for i in llwords:\n",
    "       \"\"\" \n",
    "           if the words are unique they get put in the uwords list \n",
    "           if check state not, therefore if the word already exist then it will not be\n",
    "           allowed to be tossed in the list. \n",
    "       \"\"\"\n",
    "       if i not in uwords:\n",
    "           #stuff and things get added to the list\n",
    "           uwords.append(i)\n",
    "   #retuns the list.          \n",
    "   return(uwords)\n",
    "print(unique(ul))"
   ]
  },
  {
   "cell_type": "markdown",
   "metadata": {},
   "source": [
    "4. [10] Write a script wordwrap.py that takes filename and width as arguments and wraps the\n",
    "lines longer than the given width, but breaks the line only at the word boundaries. You should\n",
    "print the wrapped lines on screen, as shown in the following example."
   ]
  },
  {
   "cell_type": "code",
   "execution_count": 16,
   "metadata": {},
   "outputs": [],
   "source": [
    "# import sys\n",
    "# #file = open(sys.argv[1],\"r\")\n",
    "# file = open(\"sea.txt\",\"r\")\n",
    "# #maxlen = sys.argv[2]\n",
    "# delim = [\",\",\":\",\".\",\" \"]\n",
    "# def word_wrap(file):\n",
    "#     count = 0\n",
    "#     while True:\n",
    "#         line = file.readline()#[l.strip(\"\\n\") for l in file.readline()]\n",
    "#         if line == \"\":\n",
    "#             break\n",
    "#         count = len(line)\n",
    "#         if count > 30:\n",
    "#             ndx = 30\n",
    "#             while line[ndx] not in delim:\n",
    "#                 ndx -= 1\n",
    "#             print('{}{}{}'.format(line[:ndx].strip(' \\n'), \"\\n\" ,line[ndx:].strip(' \\n')))\n",
    "#         else:\n",
    "#             print(line.strip())\n",
    "            \n",
    "# print(word_wrap(file))\n"
   ]
  },
  {
   "cell_type": "code",
   "execution_count": 17,
   "metadata": {},
   "outputs": [
    {
     "name": "stdout",
     "output_type": "stream",
     "text": [
      "I’m Sure That\n",
      "The Shells Are Seashore Shells.\n",
      "So If She Sells\n",
      "Seashells On The Seashore,\n",
      "The Shells That\n",
      "She Sells Are Seashells I’m Sure.\n",
      "She Sells\n",
      "Seashells On The Seashore;\n",
      "None\n"
     ]
    }
   ],
   "source": [
    "%run word_wrap.py sea.txt 15\n"
   ]
  },
  {
   "cell_type": "code",
   "execution_count": null,
   "metadata": {},
   "outputs": [],
   "source": []
  }
 ],
 "metadata": {
  "kernelspec": {
   "display_name": "Python 3",
   "language": "python",
   "name": "python3"
  },
  "language_info": {
   "codemirror_mode": {
    "name": "ipython",
    "version": 3
   },
   "file_extension": ".py",
   "mimetype": "text/x-python",
   "name": "python",
   "nbconvert_exporter": "python",
   "pygments_lexer": "ipython3",
   "version": "3.6.7"
  }
 },
 "nbformat": 4,
 "nbformat_minor": 2
}
