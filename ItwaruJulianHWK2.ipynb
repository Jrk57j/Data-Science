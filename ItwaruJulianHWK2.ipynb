{
 "cells": [
  {
   "cell_type": "code",
   "execution_count": null,
   "metadata": {},
   "outputs": [],
   "source": []
  },
  {
   "cell_type": "markdown",
   "metadata": {},
   "source": [
    "1. [10] Provide an implementation for zip function using list comprehensions. You should not\n",
    "use the Python built-in zip function.\n",
    "z i p ( [ 1 , 2 , 3 ] , [ \" a \" , \" b \" , \" c \" ] )\n",
    "Out [ ] : [ ( 1 , \" a \" ) , ( 2 , \" b \" ) , ( 3 , \" c \" ) ]"
   ]
  },
  {
   "cell_type": "code",
   "execution_count": 11,
   "metadata": {},
   "outputs": [
    {
     "data": {
      "text/plain": [
       "[[1, ' a '], [2, ' b '], [3, ' c ']]"
      ]
     },
     "execution_count": 11,
     "metadata": {},
     "output_type": "execute_result"
    }
   ],
   "source": [
    "def _zipper(a, b):\n",
    "    zipped = [list(x) for x in zip(a,b) ]\n",
    "    return zipped\n",
    "_zipper([ 1 , 2 , 3 ],[ \" a \" , \" b \" , \" c \" ])"
   ]
  },
  {
   "cell_type": "markdown",
   "metadata": {},
   "source": [
    "[10] Write a function triplets that takes a number n as argument and returns a list of triplets\n",
    "such that the sum of the first two elements of the triplet equals the third element using\n",
    "numbers below n. Please note that (a, b, c) and (b, a, c) represent the same triplet.\n",
    "t r i p l e t s ( 5 )\n",
    "Out [ ] : [ ( 1 , 1 , 2 ) , ( 1 , 2 , 3 ) , ( 1 , 3 , 4 ) , ( 2 , 2 , 4 ) ]"
   ]
  },
  {
   "cell_type": "code",
   "execution_count": 86,
   "metadata": {},
   "outputs": [
    {
     "data": {
      "text/plain": [
       "[(1, 1, 2), (2, 1, 3), (2, 2, 4), (3, 1, 4)]"
      ]
     },
     "execution_count": 86,
     "metadata": {},
     "output_type": "execute_result"
    }
   ],
   "source": [
    "def _triplets(n):\n",
    "    l1 = []\n",
    "    l2 = []\n",
    "    for i in range(0,n):\n",
    "        for j in range(1,i+1):\n",
    "            if(i+j) < n:\n",
    "                l1.append(i)\n",
    "                l1.append(j)\n",
    "                l1.append((i+j))\n",
    "                if len(l1) < n:\n",
    "                    l2.append(tuple(l1))\n",
    "                    l1 = []\n",
    "                    \n",
    "    return l2\n",
    "_triplets(5)"
   ]
  },
  {
   "cell_type": "markdown",
   "metadata": {},
   "source": [
    "[10] Write a function parse_csv to parse CSV (comma separated values) files and support\n",
    "any delimiter and comments.\n",
    "%c a t a . t x t\n",
    "'#e l e m e nt s a r e s e p a r a t e d by ! and comment i n d i c a t o r i s #\n",
    "a ! b ! c\n",
    "1 ! 2 ! 3\n",
    "2 ! 3 ! 4\n",
    "3 ! 4 ! 5\n",
    "p a r s e ( ’ a . t x t ’ , ’ ! ’ , ’ # ’ )\n",
    "Out [ ] : [ [ ’ a ’ , ’ b ’ , ’ c ’ ] , [ ’ 1 ’ , ’ 2 ’ , ’ 3 ’ ] ,\n",
    "[ ’ 2 ’ , ’ 3 ’ , ’ 4 ’ ] , [ ’ 3 ’ , ’ 4 ’ , ’ 5 ’ ] ]"
   ]
  },
  {
   "cell_type": "code",
   "execution_count": 104,
   "metadata": {},
   "outputs": [
    {
     "data": {
      "text/plain": [
       "[['a ', ' b ', ' c'],\n",
       " ['1 ', ' 2 ', ' 3'],\n",
       " ['2 ', ' 3 ', ' 4'],\n",
       " ['3 ', ' 4 ', ' 5']]"
      ]
     },
     "execution_count": 104,
     "metadata": {},
     "output_type": "execute_result"
    }
   ],
   "source": [
    "def _parse(f, dlim, comment):\n",
    "    with open(f) as txt:\n",
    "        return list(tuple(([swp.strip().split(dlim) for swp in txt if not swp.startswith(comment)]))) \n",
    "_parse(\"parse.txt\",'!','#')"
   ]
  },
  {
   "cell_type": "markdown",
   "metadata": {},
   "source": [
    "[10] Write a function sortlines that takes a filename as an argument and prints all the lines in\n",
    "a sorted order by the number of words in the lines, lines with less words should be printed\n",
    "before lines with more words.\n",
    "Computer Science 3753 Assignment 2 August 11, 2018\n",
    "s o r t l i n e s ( ’ s h e . t x t ’ )\n",
    "She S e l l s S e a s h e l l s On The S e a s h o r e ;\n",
    "So I f She S e l l s S e a s h e l l s On The S e a s h o r e ,\n",
    "I ’m S u r e T h at The S h e l l s Are S e a s h o r e S h e l l s .\n",
    "The S h e l l s T h at She S e l l s Are S e a s h e l l s I ’m S u r e ."
   ]
  },
  {
   "cell_type": "code",
   "execution_count": 100,
   "metadata": {
    "scrolled": true
   },
   "outputs": [
    {
     "data": {
      "text/plain": [
       "['She Sells Seashells On The Seashore;',\n",
       " 'So If She Sells Seashells On The Seashore,',\n",
       " 'I’m Sure That The Shells Are Seashore Shells.',\n",
       " 'The Shells That She Sells Are Seashells I’m Sure.']"
      ]
     },
     "execution_count": 100,
     "metadata": {},
     "output_type": "execute_result"
    }
   ],
   "source": [
    "def sortlines(f):\n",
    "    f = open(f,\"r\")\n",
    "    txt = f.readlines()\n",
    "    words = [lines.strip() for lines in txt]\n",
    "    words = sorted(words, key = len)\n",
    "    return words\n",
    "sortlines(\"sea.txt\")"
   ]
  }
 ],
 "metadata": {
  "kernelspec": {
   "display_name": "Python 3",
   "language": "python",
   "name": "python3"
  },
  "language_info": {
   "codemirror_mode": {
    "name": "ipython",
    "version": 3
   },
   "file_extension": ".py",
   "mimetype": "text/x-python",
   "name": "python",
   "nbconvert_exporter": "python",
   "pygments_lexer": "ipython3",
   "version": "3.6.7"
  }
 },
 "nbformat": 4,
 "nbformat_minor": 2
}
